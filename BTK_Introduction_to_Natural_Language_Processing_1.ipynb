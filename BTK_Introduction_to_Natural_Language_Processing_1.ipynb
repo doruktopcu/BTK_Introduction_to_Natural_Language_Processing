{
 "cells": [
  {
   "cell_type": "markdown",
   "id": "06a55502",
   "metadata": {},
   "source": [
    "# Setup"
   ]
  },
  {
   "cell_type": "code",
   "execution_count": 8,
   "id": "8c06c74e",
   "metadata": {},
   "outputs": [
    {
     "name": "stdout",
     "output_type": "stream",
     "text": [
      "Requirement already satisfied: NLTK in e:\\anaconda3\\lib\\site-packages (3.6.5)\n",
      "Requirement already satisfied: click in e:\\anaconda3\\lib\\site-packages (from NLTK) (8.0.3)\n",
      "Requirement already satisfied: joblib in c:\\users\\doruk\\appdata\\roaming\\python\\python39\\site-packages (from NLTK) (0.17.0)\n",
      "Requirement already satisfied: regex>=2021.8.3 in e:\\anaconda3\\lib\\site-packages (from NLTK) (2021.8.3)\n",
      "Requirement already satisfied: tqdm in e:\\anaconda3\\lib\\site-packages (from NLTK) (4.62.3)\n",
      "Requirement already satisfied: colorama in c:\\users\\doruk\\appdata\\roaming\\python\\python39\\site-packages (from click->NLTK) (0.4.4)\n"
     ]
    },
    {
     "name": "stderr",
     "output_type": "stream",
     "text": [
      "WARNING: You are using pip version 20.2.4; however, version 22.0.3 is available.\n",
      "You should consider upgrading via the 'E:\\Anaconda3\\python.exe -m pip install --upgrade pip' command.\n"
     ]
    },
    {
     "name": "stdout",
     "output_type": "stream",
     "text": [
      "Requirement already satisfied: spacy in e:\\anaconda3\\lib\\site-packages (3.2.1)\n",
      "Requirement already satisfied: pathy>=0.3.5 in e:\\anaconda3\\lib\\site-packages (from spacy) (0.6.1)\n",
      "Requirement already satisfied: pydantic!=1.8,!=1.8.1,<1.9.0,>=1.7.4 in e:\\anaconda3\\lib\\site-packages (from spacy) (1.8.2)\n",
      "Requirement already satisfied: jinja2 in e:\\anaconda3\\lib\\site-packages (from spacy) (2.11.3)\n",
      "Requirement already satisfied: spacy-legacy<3.1.0,>=3.0.8 in e:\\anaconda3\\lib\\site-packages (from spacy) (3.0.8)\n",
      "Requirement already satisfied: packaging>=20.0 in e:\\anaconda3\\lib\\site-packages (from spacy) (21.0)\n",
      "Requirement already satisfied: preshed<3.1.0,>=3.0.2 in e:\\anaconda3\\lib\\site-packages (from spacy) (3.0.6)\n",
      "Requirement already satisfied: srsly<3.0.0,>=2.4.1 in e:\\anaconda3\\lib\\site-packages (from spacy) (2.4.2)\n",
      "Requirement already satisfied: catalogue<2.1.0,>=2.0.6 in e:\\anaconda3\\lib\\site-packages (from spacy) (2.0.6)\n",
      "Requirement already satisfied: typer<0.5.0,>=0.3.0 in e:\\anaconda3\\lib\\site-packages (from spacy) (0.4.0)\n",
      "Requirement already satisfied: wasabi<1.1.0,>=0.8.1 in e:\\anaconda3\\lib\\site-packages (from spacy) (0.9.0)\n",
      "Requirement already satisfied: tqdm<5.0.0,>=4.38.0 in e:\\anaconda3\\lib\\site-packages (from spacy) (4.62.3)\n",
      "Requirement already satisfied: cymem<2.1.0,>=2.0.2 in e:\\anaconda3\\lib\\site-packages (from spacy) (2.0.6)\n",
      "Requirement already satisfied: thinc<8.1.0,>=8.0.12 in e:\\anaconda3\\lib\\site-packages (from spacy) (8.0.13)\n",
      "Requirement already satisfied: blis<0.8.0,>=0.4.0 in e:\\anaconda3\\lib\\site-packages (from spacy) (0.7.5)\n",
      "Requirement already satisfied: numpy>=1.15.0 in e:\\anaconda3\\lib\\site-packages (from spacy) (1.22.2)\n",
      "Requirement already satisfied: spacy-loggers<2.0.0,>=1.0.0 in e:\\anaconda3\\lib\\site-packages (from spacy) (1.0.1)\n",
      "Requirement already satisfied: requests<3.0.0,>=2.13.0 in e:\\anaconda3\\lib\\site-packages (from spacy) (2.26.0)\n",
      "Requirement already satisfied: murmurhash<1.1.0,>=0.28.0 in e:\\anaconda3\\lib\\site-packages (from spacy) (1.0.6)\n",
      "Requirement already satisfied: setuptools in e:\\anaconda3\\lib\\site-packages (from spacy) (58.0.4)\n",
      "Requirement already satisfied: langcodes<4.0.0,>=3.2.0 in e:\\anaconda3\\lib\\site-packages (from spacy) (3.3.0)\n",
      "Requirement already satisfied: smart-open<6.0.0,>=5.0.0 in e:\\anaconda3\\lib\\site-packages (from pathy>=0.3.5->spacy) (5.2.1)\n",
      "Requirement already satisfied: typing-extensions>=3.7.4.3 in e:\\anaconda3\\lib\\site-packages (from pydantic!=1.8,!=1.8.1,<1.9.0,>=1.7.4->spacy) (3.10.0.2)\n",
      "Requirement already satisfied: MarkupSafe>=0.23 in e:\\anaconda3\\lib\\site-packages (from jinja2->spacy) (1.1.1)\n",
      "Requirement already satisfied: pyparsing>=2.0.2 in e:\\anaconda3\\lib\\site-packages (from packaging>=20.0->spacy) (3.0.4)\n",
      "Requirement already satisfied: click<9.0.0,>=7.1.1 in e:\\anaconda3\\lib\\site-packages (from typer<0.5.0,>=0.3.0->spacy) (8.0.3)\n",
      "Requirement already satisfied: colorama; platform_system == \"Windows\" in c:\\users\\doruk\\appdata\\roaming\\python\\python39\\site-packages (from tqdm<5.0.0,>=4.38.0->spacy) (0.4.4)\n",
      "Requirement already satisfied: idna<4,>=2.5; python_version >= \"3\" in e:\\anaconda3\\lib\\site-packages (from requests<3.0.0,>=2.13.0->spacy) (3.2)\n",
      "Requirement already satisfied: urllib3<1.27,>=1.21.1 in e:\\anaconda3\\lib\\site-packages (from requests<3.0.0,>=2.13.0->spacy) (1.26.7)\n",
      "Requirement already satisfied: charset-normalizer~=2.0.0; python_version >= \"3\" in e:\\anaconda3\\lib\\site-packages (from requests<3.0.0,>=2.13.0->spacy) (2.0.4)\n",
      "Requirement already satisfied: certifi>=2017.4.17 in e:\\anaconda3\\lib\\site-packages (from requests<3.0.0,>=2.13.0->spacy) (2021.10.8)\n"
     ]
    },
    {
     "name": "stderr",
     "output_type": "stream",
     "text": [
      "WARNING: You are using pip version 20.2.4; however, version 22.0.3 is available.\n",
      "You should consider upgrading via the 'E:\\Anaconda3\\python.exe -m pip install --upgrade pip' command.\n"
     ]
    },
    {
     "name": "stdout",
     "output_type": "stream",
     "text": [
      "Requirement already satisfied: scikit-learn in c:\\users\\doruk\\appdata\\roaming\\python\\python39\\site-packages (0.23.2)\n",
      "Requirement already satisfied: threadpoolctl>=2.0.0 in c:\\users\\doruk\\appdata\\roaming\\python\\python39\\site-packages (from scikit-learn) (2.1.0)\n",
      "Requirement already satisfied: scipy>=0.19.1 in c:\\users\\doruk\\appdata\\roaming\\python\\python39\\site-packages (from scikit-learn) (1.5.4)\n",
      "Requirement already satisfied: joblib>=0.11 in c:\\users\\doruk\\appdata\\roaming\\python\\python39\\site-packages (from scikit-learn) (0.17.0)\n",
      "Requirement already satisfied: numpy>=1.13.3 in e:\\anaconda3\\lib\\site-packages (from scikit-learn) (1.22.2)\n"
     ]
    },
    {
     "name": "stderr",
     "output_type": "stream",
     "text": [
      "WARNING: You are using pip version 20.2.4; however, version 22.0.3 is available.\n",
      "You should consider upgrading via the 'E:\\Anaconda3\\python.exe -m pip install --upgrade pip' command.\n"
     ]
    },
    {
     "name": "stdout",
     "output_type": "stream",
     "text": [
      "Requirement already satisfied: scipy in c:\\users\\doruk\\appdata\\roaming\\python\\python39\\site-packages (1.5.4)\n",
      "Requirement already satisfied: numpy>=1.14.5 in e:\\anaconda3\\lib\\site-packages (from scipy) (1.22.2)\n"
     ]
    },
    {
     "name": "stderr",
     "output_type": "stream",
     "text": [
      "WARNING: You are using pip version 20.2.4; however, version 22.0.3 is available.\n",
      "You should consider upgrading via the 'E:\\Anaconda3\\python.exe -m pip install --upgrade pip' command.\n"
     ]
    },
    {
     "name": "stdout",
     "output_type": "stream",
     "text": [
      "Collecting zemberek-python"
     ]
    },
    {
     "name": "stderr",
     "output_type": "stream",
     "text": [
      "WARNING: You are using pip version 20.2.4; however, version 22.0.3 is available.\n",
      "You should consider upgrading via the 'E:\\Anaconda3\\python.exe -m pip install --upgrade pip' command.\n"
     ]
    },
    {
     "name": "stdout",
     "output_type": "stream",
     "text": [
      "\n",
      "  Downloading zemberek_python-0.1.2-py3-none-any.whl (93.6 MB)\n",
      "Collecting antlr4-python3-runtime>=4.8\n",
      "  Downloading antlr4-python3-runtime-4.9.3.tar.gz (117 kB)\n",
      "Requirement already satisfied: numpy>=1.19.0 in e:\\anaconda3\\lib\\site-packages (from zemberek-python) (1.22.2)\n",
      "Building wheels for collected packages: antlr4-python3-runtime\n",
      "  Building wheel for antlr4-python3-runtime (setup.py): started\n",
      "  Building wheel for antlr4-python3-runtime (setup.py): finished with status 'done'\n",
      "  Created wheel for antlr4-python3-runtime: filename=antlr4_python3_runtime-4.9.3-py3-none-any.whl size=144575 sha256=dfcd3d92cf27f6a80f4e1630bb6160ae5effec648041db49772f45cfad4248db\n",
      "  Stored in directory: c:\\users\\doruk\\appdata\\local\\pip\\cache\\wheels\\23\\cf\\80\\f3efa822e6ab23277902ee9165fe772eeb1dfb8014f359020a\n",
      "Successfully built antlr4-python3-runtime\n",
      "Installing collected packages: antlr4-python3-runtime, zemberek-python\n",
      "Successfully installed antlr4-python3-runtime-4.9.3 zemberek-python-0.1.2\n"
     ]
    }
   ],
   "source": [
    "!pip install NLTK\n",
    "!pip install spacy\n",
    "!pip install scikit-learn\n",
    "!pip install scipy\n",
    "!pip install zemberek-python"
   ]
  },
  {
   "cell_type": "markdown",
   "id": "e78a80a3",
   "metadata": {},
   "source": [
    "## Libraries to use"
   ]
  },
  {
   "cell_type": "code",
   "execution_count": 46,
   "id": "27ea217e",
   "metadata": {},
   "outputs": [],
   "source": [
    "import spacy\n",
    "import nltk\n",
    "import zemberek\n"
   ]
  },
  {
   "cell_type": "code",
   "execution_count": 9,
   "id": "48ab4a29",
   "metadata": {},
   "outputs": [
    {
     "name": "stderr",
     "output_type": "stream",
     "text": [
      "[nltk_data] Downloading package punkt to\n",
      "[nltk_data]     C:\\Users\\doruk\\AppData\\Roaming\\nltk_data...\n",
      "[nltk_data]   Unzipping tokenizers\\punkt.zip.\n"
     ]
    },
    {
     "data": {
      "text/plain": [
       "True"
      ]
     },
     "execution_count": 9,
     "metadata": {},
     "output_type": "execute_result"
    }
   ],
   "source": [
    "nltk.download('punkt')"
   ]
  },
  {
   "cell_type": "code",
   "execution_count": 26,
   "id": "b9089907",
   "metadata": {},
   "outputs": [],
   "source": [
    "from zemberek import (\n",
    "    TurkishSpellChecker,\n",
    "    TurkishSentenceNormalizer,\n",
    "    TurkishSentenceExtractor,\n",
    "    TurkishMorphology,\n",
    "    TurkishTokenizer\n",
    ")"
   ]
  },
  {
   "cell_type": "markdown",
   "id": "69c40607",
   "metadata": {},
   "source": [
    "## Zemberek"
   ]
  },
  {
   "cell_type": "code",
   "execution_count": 28,
   "id": "99f646a4",
   "metadata": {},
   "outputs": [
    {
     "name": "stdout",
     "output_type": "stream",
     "text": [
      "Susmayın!\n",
      "Saat 16da Kadıköyde buluşalım.\n",
      "Şiddet cahillik göstergesinin üst sınırıdır.\n",
      "Ailede şiddet geleceği karartır.\n",
      "Ailede şiddet geleceği karartmasın.\n",
      "Kadına şiddet insanlığa ihanettir.\n",
      "Sevgi insanlığın, şiddet hayvanlığın kanunudur.\n"
     ]
    }
   ],
   "source": [
    "extractor = TurkishSentenceExtractor()\n",
    "\n",
    "text = ''' \n",
    "\n",
    "Susmayın!\n",
    "Saat 16da Kadıköyde buluşalım.\n",
    "Şiddet cahillik göstergesinin üst sınırıdır.\n",
    "Ailede şiddet geleceği karartır.\n",
    "Ailede şiddet geleceği karartmasın.\n",
    "Kadına şiddet insanlığa ihanettir.\n",
    "Sevgi insanlığın, şiddet hayvanlığın kanunudur.\n",
    "\n",
    "\n",
    "\n",
    "'''\n",
    "\n",
    "sentences = extractor.from_paragraph(text)\n",
    "for sent in sentences:\n",
    "    print(sent)"
   ]
  },
  {
   "cell_type": "code",
   "execution_count": 33,
   "id": "67dccc66",
   "metadata": {},
   "outputs": [
    {
     "name": "stdout",
     "output_type": "stream",
     "text": [
      "Susmayın! [Susmayın Type.Word 0-7] Susmayın Word\n",
      "Susmayın! [! Type.Punctuation 8-8] ! Punctuation\n",
      "Saat 16da Kadıköyde buluşalım. [Saat Type.Word 0-3] Saat Word\n",
      "Saat 16da Kadıköyde buluşalım. [16da Type.WordAlphanumerical 5-8] 16da WordAlphanumerical\n",
      "Saat 16da Kadıköyde buluşalım. [Kadıköyde Type.Word 10-18] Kadıköyde Word\n",
      "Saat 16da Kadıköyde buluşalım. [buluşalım Type.Word 20-28] buluşalım Word\n",
      "Saat 16da Kadıköyde buluşalım. [. Type.Punctuation 29-29] . Punctuation\n",
      "Şiddet cahillik göstergesinin üst sınırıdır. [Şiddet Type.Word 0-5] Şiddet Word\n",
      "Şiddet cahillik göstergesinin üst sınırıdır. [cahillik Type.Word 7-14] cahillik Word\n",
      "Şiddet cahillik göstergesinin üst sınırıdır. [göstergesinin Type.Word 16-28] göstergesinin Word\n",
      "Şiddet cahillik göstergesinin üst sınırıdır. [üst Type.Word 30-32] üst Word\n",
      "Şiddet cahillik göstergesinin üst sınırıdır. [sınırıdır Type.Word 34-42] sınırıdır Word\n",
      "Şiddet cahillik göstergesinin üst sınırıdır. [. Type.Punctuation 43-43] . Punctuation\n",
      "Ailede şiddet geleceği karartır. [Ailede Type.Word 0-5] Ailede Word\n",
      "Ailede şiddet geleceği karartır. [şiddet Type.Word 7-12] şiddet Word\n",
      "Ailede şiddet geleceği karartır. [geleceği Type.Word 14-21] geleceği Word\n",
      "Ailede şiddet geleceği karartır. [karartır Type.Word 23-30] karartır Word\n",
      "Ailede şiddet geleceği karartır. [. Type.Punctuation 31-31] . Punctuation\n",
      "Ailede şiddet geleceği karartmasın. [Ailede Type.Word 0-5] Ailede Word\n",
      "Ailede şiddet geleceği karartmasın. [şiddet Type.Word 7-12] şiddet Word\n",
      "Ailede şiddet geleceği karartmasın. [geleceği Type.Word 14-21] geleceği Word\n",
      "Ailede şiddet geleceği karartmasın. [karartmasın Type.Word 23-33] karartmasın Word\n",
      "Ailede şiddet geleceği karartmasın. [. Type.Punctuation 34-34] . Punctuation\n",
      "Kadına şiddet insanlığa ihanettir. [Kadına Type.Word 0-5] Kadına Word\n",
      "Kadına şiddet insanlığa ihanettir. [şiddet Type.Word 7-12] şiddet Word\n",
      "Kadına şiddet insanlığa ihanettir. [insanlığa Type.Word 14-22] insanlığa Word\n",
      "Kadına şiddet insanlığa ihanettir. [ihanettir Type.Word 24-32] ihanettir Word\n",
      "Kadına şiddet insanlığa ihanettir. [. Type.Punctuation 33-33] . Punctuation\n",
      "Sevgi insanlığın, şiddet hayvanlığın kanunudur. [Sevgi Type.Word 0-4] Sevgi Word\n",
      "Sevgi insanlığın, şiddet hayvanlığın kanunudur. [insanlığın Type.Word 6-15] insanlığın Word\n",
      "Sevgi insanlığın, şiddet hayvanlığın kanunudur. [, Type.Punctuation 16-16] , Punctuation\n",
      "Sevgi insanlığın, şiddet hayvanlığın kanunudur. [şiddet Type.Word 18-23] şiddet Word\n",
      "Sevgi insanlığın, şiddet hayvanlığın kanunudur. [hayvanlığın Type.Word 25-35] hayvanlığın Word\n",
      "Sevgi insanlığın, şiddet hayvanlığın kanunudur. [kanunudur Type.Word 37-45] kanunudur Word\n",
      "Sevgi insanlığın, şiddet hayvanlığın kanunudur. [. Type.Punctuation 46-46] . Punctuation\n"
     ]
    }
   ],
   "source": [
    "tokenizer = TurkishTokenizer.DEFAULT\n",
    "\n",
    "for sentence in sentences:\n",
    "    tokens = tokenizer.tokenize(sentence)\n",
    "    for token in tokens:\n",
    "        print(sentence, token, token.content, token.type_.name)\n"
   ]
  },
  {
   "cell_type": "markdown",
   "id": "d95c2414",
   "metadata": {},
   "source": [
    "## NLTK"
   ]
  },
  {
   "cell_type": "code",
   "execution_count": 34,
   "id": "916fbb77",
   "metadata": {},
   "outputs": [],
   "source": [
    "from nltk.stem.porter import *\n"
   ]
  },
  {
   "cell_type": "code",
   "execution_count": 35,
   "id": "df56f1e7",
   "metadata": {},
   "outputs": [
    {
     "data": {
      "text/plain": [
       "'civil'"
      ]
     },
     "execution_count": 35,
     "metadata": {},
     "output_type": "execute_result"
    }
   ],
   "source": [
    "porter_stemmer = PorterStemmer()\n",
    "word = 'Civilizations'\n",
    "porter_stemmer.stem(word)"
   ]
  },
  {
   "cell_type": "code",
   "execution_count": 37,
   "id": "b7e73e6f",
   "metadata": {},
   "outputs": [],
   "source": [
    "from nltk.stem.snowball import SnowballStemmer\n",
    "from snowballstemmer import TurkishStemmer"
   ]
  },
  {
   "cell_type": "code",
   "execution_count": 44,
   "id": "0e1c1b44",
   "metadata": {},
   "outputs": [
    {
     "data": {
      "text/plain": [
       "'ekmek'"
      ]
     },
     "execution_count": 44,
     "metadata": {},
     "output_type": "execute_result"
    }
   ],
   "source": [
    "turkish_stem = TurkishStemmer()\n",
    "kelime = 'ekmekler'\n",
    "turkish_stem.stemWord(kelime)"
   ]
  },
  {
   "cell_type": "code",
   "execution_count": 45,
   "id": "75393b46",
   "metadata": {},
   "outputs": [
    {
     "data": {
      "text/plain": [
       "'çiçeklik'"
      ]
     },
     "execution_count": 45,
     "metadata": {},
     "output_type": "execute_result"
    }
   ],
   "source": [
    "kelime2 = 'çiçeklik'\n",
    "turkish_stem.stemWord(kelime2)"
   ]
  },
  {
   "cell_type": "markdown",
   "id": "9248c67f",
   "metadata": {},
   "source": [
    "## SpaCy"
   ]
  },
  {
   "cell_type": "code",
   "execution_count": 47,
   "id": "1cef2d16",
   "metadata": {},
   "outputs": [],
   "source": [
    "nlp = spacy.load('en_core_web_sm')"
   ]
  },
  {
   "cell_type": "code",
   "execution_count": 50,
   "id": "cfb11687",
   "metadata": {},
   "outputs": [
    {
     "name": "stdout",
     "output_type": "stream",
     "text": [
      "Word:  Civilizations Lemma:  civilization\n"
     ]
    }
   ],
   "source": [
    "tokens = nlp(word) \n",
    "for token in tokens:\n",
    "    print('Word: ',token.text, 'Lemma: ', token.lemma_)"
   ]
  },
  {
   "cell_type": "markdown",
   "id": "faa9aba7",
   "metadata": {},
   "source": [
    "## Zemberek"
   ]
  },
  {
   "cell_type": "code",
   "execution_count": 62,
   "id": "edda6481",
   "metadata": {},
   "outputs": [
    {
     "name": "stdout",
     "output_type": "stream",
     "text": [
      "2022-02-11 20:18:41,971 - zemberek.morphology.turkish_morphology - INFO\n",
      "Msg: TurkishMorphology instance initialized in 15.869593858718872\n",
      "\n",
      "[ay:Noun, Time] ay:Noun+A3sg+ı:P3sg+nın:Gen\n",
      "[Ay:Noun, Prop] ay:Noun+A3sg+ı:P3sg+nın:Gen\n",
      "[ay:Noun] ay:Noun+A3sg+ı:P3sg+nın:Gen\n",
      "[ayı:Noun] ayı:Noun+A3sg+nın:Gen\n",
      "[ayı:Noun] ayı:Noun+A3sg+n:P2sg+ın:Gen\n",
      "[kürk:Noun] kürk:Noun+A3sg+ü:Acc\n",
      "[kürk:Noun] kürk:Noun+A3sg+ü:P3sg\n",
      "[kürk:Adj] kürk:Adj|Zero→Noun+A3sg+ü:Acc\n",
      "[kürk:Adj] kürk:Adj|Zero→Noun+A3sg+ü:P3sg\n"
     ]
    }
   ],
   "source": [
    "morphology = TurkishMorphology.create_with_defaults()\n",
    "\n",
    "cumle = \"Ayı'nın kürkü kahverengidir.\"\n",
    "\n",
    "cumle_split = cumle.split(' ')\n",
    "for kelime in cumle_split:\n",
    "    results = morphology.analyze(kelime)\n",
    "    for result in results:\n",
    "        print(result)\n",
    "\n",
    "        \n",
    "# ?????????"
   ]
  },
  {
   "cell_type": "code",
   "execution_count": null,
   "id": "2b9fa7bb",
   "metadata": {},
   "outputs": [],
   "source": []
  }
 ],
 "metadata": {
  "kernelspec": {
   "display_name": "Python 3 (ipykernel)",
   "language": "python",
   "name": "python3"
  },
  "language_info": {
   "codemirror_mode": {
    "name": "ipython",
    "version": 3
   },
   "file_extension": ".py",
   "mimetype": "text/x-python",
   "name": "python",
   "nbconvert_exporter": "python",
   "pygments_lexer": "ipython3",
   "version": "3.9.7"
  }
 },
 "nbformat": 4,
 "nbformat_minor": 5
}
