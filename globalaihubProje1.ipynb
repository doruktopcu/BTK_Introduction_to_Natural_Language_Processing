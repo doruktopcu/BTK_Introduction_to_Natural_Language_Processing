{
  "nbformat": 4,
  "nbformat_minor": 0,
  "metadata": {
    "colab": {
      "name": "globalaihubProje1.ipynb",
      "provenance": [],
      "authorship_tag": "ABX9TyPjbB3pUM+O7GWGm7+ZMRZA",
      "include_colab_link": true
    },
    "kernelspec": {
      "name": "python3",
      "display_name": "Python 3"
    },
    "language_info": {
      "name": "python"
    }
  },
  "cells": [
    {
      "cell_type": "markdown",
      "metadata": {
        "id": "view-in-github",
        "colab_type": "text"
      },
      "source": [
        "<a href=\"https://colab.research.google.com/github/doruktopcu/BTK_Introduction_to_Natural_Language_Processing/blob/main/globalaihubProje1.ipynb\" target=\"_parent\"><img src=\"https://colab.research.google.com/assets/colab-badge.svg\" alt=\"Open In Colab\"/></a>"
      ]
    },
    {
      "cell_type": "code",
      "execution_count": 57,
      "metadata": {
        "id": "fPI5Lx3QzILW"
      },
      "outputs": [],
      "source": [
        "#List of modules used\n",
        "import numpy as np\n",
        "import pandas as pd\n",
        "\n",
        "#Grading for Calculus 2 Summer Term\n",
        "#There has been 3 exams in this semester.\n",
        "#Two midterms and a final exam.\n",
        "#Each midterm will effect total score %20.\n",
        "#Final exam will effect the results %60.\n",
        "\n",
        "class Student:\n",
        "\n",
        "  def __init__(self, name, surname, midterm_1 = 0, midterm_2 = 0, final = 0):\n",
        "    self.name = name\n",
        "    self.surname = surname\n",
        "    self.midterm_1 = float(midterm_1)\n",
        "    self.midterm_2 = float(midterm_2)\n",
        "    self.final = float(final)\n",
        "\n",
        "\n",
        "  def calculateFinalScore(self):\n",
        "    result =  self.midterm_1 * 0.2 + self.midterm_2 * 0.2 + self.final * 0.6\n",
        "    return result\n",
        "\n",
        "  #Gaussian scoring will be added.\n",
        "  def calculateGrade(self,gaussian = False):\n",
        "\n",
        "    if not gaussian:\n",
        "      total = self.calculateFinalScore()\n",
        "      if 100 >= total >= 95:  \n",
        "        return 'A1'\n",
        "      elif 95 > total >= 90:  \n",
        "        return 'A2'\n",
        "      elif 90 > total >= 85:  \n",
        "        return 'A3'\n",
        "      elif 85 > total >= 80:  \n",
        "        return 'B1'\n",
        "      elif 80 > total >= 75:  \n",
        "        return 'B2'\n",
        "      elif 75 > total >= 70:  \n",
        "        return 'B3'\n",
        "      elif 70 > total >= 65:  \n",
        "        return 'C1'\n",
        "      elif 65 > total >= 60:\n",
        "        return 'C2'\n",
        "      elif 60 > total >= 55:  \n",
        "        return 'C3'\n",
        "      elif 55 > total >= 50:  \n",
        "        return 'D'\n",
        "      if 50 > total >= 0:  \n",
        "        return 'Failed'\n",
        "      \n",
        "\n",
        "    else:\n",
        "      return None\n",
        "\n",
        "\n",
        "  #Gives information about the student. Can be called as Student.describeStudent()\n",
        "  def describeStudent(self):\n",
        "    description = f\"\"\" \n",
        "    \n",
        "                       Student Name:{self.name}\n",
        "                    Student Surname:{self.surname}\n",
        "                          Midterm 1:{self.midterm_1}\n",
        "                          Midterm 2:{self.midterm_2}\n",
        "                              Final:{self.final}\n",
        "                              \n",
        "                              \"\"\"\n",
        "    \n",
        "    return description\n",
        "\n",
        "class Classroom(Student):\n",
        "    def __init__(self, class_name, student_list):\n",
        "      self.class_name = class_name\n",
        "      self.student_list = student_list\n",
        "      \n",
        "      self.student_df = pd.DataFrame(columns = ['Name', 'Surname', 'Midterm_1', 'Midterm_2', 'Final', 'Total_Score', 'Grade'])\n",
        "      id = 0     \n",
        "      for student in student_list:\n",
        "        self.student_df[id] = [student.name, student.surname, student.midterm_1, student.midterm_2, student.final, student.calculateFinalScore(), student.calculateGrade()] \n",
        "        id += 1\n",
        "      \n",
        "      def grades_df(self, student_df):\n",
        "        return self.student_df\n",
        "\n",
        "\n",
        "\n",
        "class Grader(Classroom):\n",
        "  pass\n",
        "\n"
      ]
    },
    {
      "cell_type": "code",
      "source": [
        "a = Student('ali', 'veli', '10', '20', '30')\n",
        "b = Student('ayse', 'fatma', '80', '100', '93.8237')"
      ],
      "metadata": {
        "id": "RiTtI6gP1ZJK"
      },
      "execution_count": 60,
      "outputs": []
    },
    {
      "cell_type": "code",
      "source": [
        "a.calculateFinalScore()\n",
        "b.calculateFinalScore()"
      ],
      "metadata": {
        "colab": {
          "base_uri": "https://localhost:8080/"
        },
        "id": "nt3VU-WX1jPt",
        "outputId": "efd2f281-81e5-43b3-da4c-9d360a7cc032"
      },
      "execution_count": 61,
      "outputs": [
        {
          "output_type": "execute_result",
          "data": {
            "text/plain": [
              "92.29422"
            ]
          },
          "metadata": {},
          "execution_count": 61
        }
      ]
    },
    {
      "cell_type": "code",
      "source": [
        "b.describeStudent()"
      ],
      "metadata": {
        "colab": {
          "base_uri": "https://localhost:8080/",
          "height": 49
        },
        "id": "r_FI_-0B1nCo",
        "outputId": "210370d8-ac84-4879-c102-89e3b849bbc9"
      },
      "execution_count": 62,
      "outputs": [
        {
          "output_type": "execute_result",
          "data": {
            "text/plain": [
              "' \\n    \\n                       Student Name:ayse\\n                    Student Surname:fatma\\n                          Midterm 1:80.0\\n                          Midterm 2:100.0\\n                              Final:93.8237\\n                              \\n                              '"
            ],
            "application/vnd.google.colaboratory.intrinsic+json": {
              "type": "string"
            }
          },
          "metadata": {},
          "execution_count": 62
        }
      ]
    },
    {
      "cell_type": "code",
      "source": [
        "student_array = [a, b]"
      ],
      "metadata": {
        "id": "Iy6xK_JD2yep"
      },
      "execution_count": 63,
      "outputs": []
    },
    {
      "cell_type": "code",
      "source": [
        "df_class = Classroom('9A', student_array)"
      ],
      "metadata": {
        "id": "o8MFmAMF3IRI"
      },
      "execution_count": 64,
      "outputs": []
    },
    {
      "cell_type": "code",
      "source": [
        "df_class.grades_df()"
      ],
      "metadata": {
        "colab": {
          "base_uri": "https://localhost:8080/",
          "height": 147
        },
        "id": "ZrL_GzyDMtrH",
        "outputId": "ae032ee8-888e-4274-86cc-428646f4f24f"
      },
      "execution_count": 65,
      "outputs": [
        {
          "output_type": "error",
          "ename": "AttributeError",
          "evalue": "ignored",
          "traceback": [
            "\u001b[0;31m---------------------------------------------------------------------------\u001b[0m",
            "\u001b[0;31mAttributeError\u001b[0m                            Traceback (most recent call last)",
            "\u001b[0;32m<ipython-input-65-4fd570c8dbb9>\u001b[0m in \u001b[0;36m<module>\u001b[0;34m()\u001b[0m\n\u001b[0;32m----> 1\u001b[0;31m \u001b[0mdf_class\u001b[0m\u001b[0;34m.\u001b[0m\u001b[0mgrades_df\u001b[0m\u001b[0;34m(\u001b[0m\u001b[0;34m)\u001b[0m\u001b[0;34m\u001b[0m\u001b[0;34m\u001b[0m\u001b[0m\n\u001b[0m",
            "\u001b[0;31mAttributeError\u001b[0m: 'Classroom' object has no attribute 'grades_df'"
          ]
        }
      ]
    },
    {
      "cell_type": "code",
      "source": [
        "df_class.head()"
      ],
      "metadata": {
        "id": "5TAjgnffNHZ9"
      },
      "execution_count": null,
      "outputs": []
    },
    {
      "cell_type": "code",
      "source": [
        ""
      ],
      "metadata": {
        "id": "us-lq5kqNJui"
      },
      "execution_count": null,
      "outputs": []
    }
  ]
}