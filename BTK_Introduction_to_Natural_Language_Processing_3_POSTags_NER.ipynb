{
 "cells": [
  {
   "cell_type": "markdown",
   "id": "aeeee016",
   "metadata": {},
   "source": [
    "## NER - Named Entitiy Recognition"
   ]
  },
  {
   "cell_type": "code",
   "execution_count": 15,
   "id": "f7cd7e9d",
   "metadata": {},
   "outputs": [
    {
     "name": "stderr",
     "output_type": "stream",
     "text": [
      "[nltk_data] Downloading package maxent_ne_chunker to\n",
      "[nltk_data]     C:\\Users\\doruk\\AppData\\Roaming\\nltk_data...\n",
      "[nltk_data]   Package maxent_ne_chunker is already up-to-date!\n",
      "[nltk_data] Downloading package words to\n",
      "[nltk_data]     C:\\Users\\doruk\\AppData\\Roaming\\nltk_data...\n",
      "[nltk_data]   Package words is already up-to-date!\n"
     ]
    },
    {
     "data": {
      "text/plain": [
       "True"
      ]
     },
     "execution_count": 15,
     "metadata": {},
     "output_type": "execute_result"
    }
   ],
   "source": [
    "import spacy\n",
    "from spacy import displacy\n",
    "from collections import Counter\n",
    "nlp = spacy.load('en_core_web_sm')\n",
    "\n",
    "import nltk\n",
    "from nltk import ne_chunk\n",
    "nltk.download('maxent_ne_chunker')\n",
    "nltk.download('words')"
   ]
  },
  {
   "cell_type": "code",
   "execution_count": 13,
   "id": "66ea43a3",
   "metadata": {},
   "outputs": [],
   "source": [
    "text = '''\n",
    "Hey! I am from out of this world. My name is E.T. Ive been traveling all\n",
    "around the world. Now I am going to Konoha to meet Naruto Uzumaki.\n",
    "After my meeting I am going to join a Karate Dojo called Cobra Kai in Reseda, CA. \n",
    "They say they never die. Have a good day! \n",
    "Alber Einstein is born in Ulm, Germany.\n",
    "Micheal Jordan was my Calculus 1 teacher and Stephen Curry could never\n",
    "derivate a function properly when Lebron James cried in the corner to\n",
    "get K. Bryant's attention. When the 24 falls 34 follows for a touchdown.\n",
    "NFL views beats NBA views in summer time.\n",
    "\n",
    "'''"
   ]
  },
  {
   "cell_type": "code",
   "execution_count": 14,
   "id": "4afe0565",
   "metadata": {},
   "outputs": [
    {
     "name": "stdout",
     "output_type": "stream",
     "text": [
      "(S\n",
      "  Hey/NN\n",
      "  !/.\n",
      "  I/PRP\n",
      "  am/VBP\n",
      "  from/IN\n",
      "  out/IN\n",
      "  of/IN\n",
      "  this/DT\n",
      "  world/NN\n",
      "  ./.\n",
      "  My/PRP$\n",
      "  name/NN\n",
      "  is/VBZ\n",
      "  E.T/NNP\n",
      "  ./.\n",
      "  Ive/NNP\n",
      "  been/VBN\n",
      "  traveling/VBG\n",
      "  all/DT\n",
      "  around/IN\n",
      "  the/DT\n",
      "  world/NN\n",
      "  ./.\n",
      "  Now/RB\n",
      "  I/PRP\n",
      "  am/VBP\n",
      "  going/VBG\n",
      "  to/TO\n",
      "  (GPE Konoha/NNP)\n",
      "  to/TO\n",
      "  meet/VB\n",
      "  (PERSON Naruto/NNP Uzumaki/NNP)\n",
      "  ./.\n",
      "  After/IN\n",
      "  my/PRP$\n",
      "  meeting/NN\n",
      "  I/PRP\n",
      "  am/VBP\n",
      "  going/VBG\n",
      "  to/TO\n",
      "  join/VB\n",
      "  a/DT\n",
      "  (ORGANIZATION Karate/NNP Dojo/NNP)\n",
      "  called/VBD\n",
      "  (PERSON Cobra/NNP Kai/NNP)\n",
      "  in/IN\n",
      "  (GPE Reseda/NNP)\n",
      "  ,/,\n",
      "  (ORGANIZATION CA/NNP)\n",
      "  ./.\n",
      "  They/PRP\n",
      "  say/VBP\n",
      "  they/PRP\n",
      "  never/RB\n",
      "  die/VBP\n",
      "  ./.\n",
      "  Have/VBP\n",
      "  a/DT\n",
      "  good/JJ\n",
      "  day/NN\n",
      "  !/.\n",
      "  (PERSON Alber/NNP Einstein/NNP)\n",
      "  is/VBZ\n",
      "  born/VBN\n",
      "  in/IN\n",
      "  (GPE Ulm/NNP)\n",
      "  ,/,\n",
      "  (GPE Germany/NNP)\n",
      "  ./.\n",
      "  (PERSON Micheal/NNP Jordan/NNP)\n",
      "  was/VBD\n",
      "  my/PRP$\n",
      "  Calculus/JJ\n",
      "  1/CD\n",
      "  teacher/NN\n",
      "  and/CC\n",
      "  (PERSON Stephen/NNP Curry/NNP)\n",
      "  could/MD\n",
      "  never/RB\n",
      "  derivate/VB\n",
      "  a/DT\n",
      "  function/NN\n",
      "  properly/RB\n",
      "  when/WRB\n",
      "  (PERSON Lebron/NNP James/NNP)\n",
      "  cried/VBD\n",
      "  in/IN\n",
      "  the/DT\n",
      "  corner/NN\n",
      "  to/TO\n",
      "  get/VB\n",
      "  K./NNP\n",
      "  (PERSON Bryant/NNP)\n",
      "  's/POS\n",
      "  attention/NN\n",
      "  ./.\n",
      "  When/WRB\n",
      "  the/DT\n",
      "  24/CD\n",
      "  falls/NNS\n",
      "  34/CD\n",
      "  follows/VBZ\n",
      "  for/IN\n",
      "  a/DT\n",
      "  touchdown/NN\n",
      "  ./.\n",
      "  (ORGANIZATION NFL/NNP)\n",
      "  views/NNS\n",
      "  beats/NNS\n",
      "  (ORGANIZATION NBA/NNP)\n",
      "  views/NNS\n",
      "  in/IN\n",
      "  summer/NN\n",
      "  time/NN\n",
      "  ./.)\n"
     ]
    }
   ],
   "source": [
    "tokens_nltk = nltk.word_tokenize(text)\n",
    "tagged_tokens_nltk = nltk.pos_tag(tokens_nltk)\n",
    "entities_nltk = nltk.chunk.ne_chunk(tagged_tokens_nltk)\n",
    "print(entities_nltk)\n"
   ]
  },
  {
   "cell_type": "code",
   "execution_count": 22,
   "id": "324efbef",
   "metadata": {},
   "outputs": [
    {
     "name": "stdout",
     "output_type": "stream",
     "text": [
      "[('Konoha', 'GPE'), ('Naruto Uzumaki', 'PERSON'), ('a Karate Dojo', 'PERSON'), ('Cobra Kai', 'PERSON'), ('Reseda', 'GPE'), ('Alber Einstein', 'PERSON'), ('Ulm', 'GPE'), ('Germany', 'GPE'), ('Jordan', 'PERSON'), ('Calculus 1', 'FAC'), ('Stephen Curry', 'PERSON'), ('Lebron James', 'PERSON'), (\"K. Bryant's\", 'PERSON'), ('24', 'CARDINAL'), ('34', 'CARDINAL'), ('NFL', 'ORG'), ('NBA', 'ORG'), ('summer', 'DATE')]\n"
     ]
    }
   ],
   "source": [
    "doc = nlp(text)\n",
    "print([(X.text, X.label_) for X in doc.ents])"
   ]
  },
  {
   "cell_type": "code",
   "execution_count": null,
   "id": "bf261359",
   "metadata": {},
   "outputs": [],
   "source": []
  }
 ],
 "metadata": {
  "kernelspec": {
   "display_name": "Python 3 (ipykernel)",
   "language": "python",
   "name": "python3"
  },
  "language_info": {
   "codemirror_mode": {
    "name": "ipython",
    "version": 3
   },
   "file_extension": ".py",
   "mimetype": "text/x-python",
   "name": "python",
   "nbconvert_exporter": "python",
   "pygments_lexer": "ipython3",
   "version": "3.9.7"
  }
 },
 "nbformat": 4,
 "nbformat_minor": 5
}
