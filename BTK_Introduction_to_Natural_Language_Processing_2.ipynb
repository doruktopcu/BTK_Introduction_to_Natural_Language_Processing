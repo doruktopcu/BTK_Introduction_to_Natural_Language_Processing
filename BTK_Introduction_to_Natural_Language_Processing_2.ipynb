{
 "cells": [
  {
   "cell_type": "markdown",
   "id": "d9ce35e1",
   "metadata": {},
   "source": [
    "## POSTagging with NLTK"
   ]
  },
  {
   "cell_type": "code",
   "execution_count": 6,
   "id": "d23485a2",
   "metadata": {},
   "outputs": [
    {
     "name": "stderr",
     "output_type": "stream",
     "text": [
      "[nltk_data] Downloading package averaged_perceptron_tagger to\n",
      "[nltk_data]     C:\\Users\\doruk\\AppData\\Roaming\\nltk_data...\n",
      "[nltk_data]   Unzipping taggers\\averaged_perceptron_tagger.zip.\n"
     ]
    },
    {
     "data": {
      "text/plain": [
       "True"
      ]
     },
     "execution_count": 6,
     "metadata": {},
     "output_type": "execute_result"
    }
   ],
   "source": [
    "import nltk\n",
    "nltk.download('averaged_perceptron_tagger')"
   ]
  },
  {
   "cell_type": "code",
   "execution_count": 7,
   "id": "349c0df4",
   "metadata": {},
   "outputs": [
    {
     "name": "stdout",
     "output_type": "stream",
     "text": [
      "Part of speech:  [('Can', 'MD'), ('you', 'PRP'), ('buy', 'VB'), ('me', 'PRP'), ('a', 'DT'), ('red', 'JJ'), ('hot', 'JJ'), ('chili', 'NNS'), ('pepper', 'IN'), ('from', 'IN'), ('grocery', 'NN'), ('?', '.')]\n"
     ]
    }
   ],
   "source": [
    "sentence = \"Can you buy me a red hot chili pepper from grocery?\"\n",
    "\n",
    "tokens = nltk.word_tokenize(sentence)\n",
    "print('Part of speech: ', nltk.pos_tag(tokens))"
   ]
  },
  {
   "cell_type": "markdown",
   "id": "9a4d510f",
   "metadata": {},
   "source": [
    "## SpaCy POSTagging"
   ]
  },
  {
   "cell_type": "code",
   "execution_count": 8,
   "id": "1bcf70b6",
   "metadata": {},
   "outputs": [
    {
     "name": "stdout",
     "output_type": "stream",
     "text": [
      "  SPACE\n",
      "I PRON\n",
      "want VERB\n",
      "an DET\n",
      "early ADJ\n",
      "upgrade NOUN\n"
     ]
    }
   ],
   "source": [
    "import spacy\n",
    "nlp = spacy.load('en_core_web_sm')\n",
    "doc = nlp(\" I want an early upgrade \")\n",
    "for token in doc:\n",
    "    print(token.text, token.pos_)"
   ]
  },
  {
   "cell_type": "markdown",
   "id": "13b87381",
   "metadata": {},
   "source": [
    "## Zemberek POSTagging"
   ]
  },
  {
   "cell_type": "code",
   "execution_count": null,
   "id": "7c88678b",
   "metadata": {},
   "outputs": [],
   "source": []
  }
 ],
 "metadata": {
  "kernelspec": {
   "display_name": "Python 3 (ipykernel)",
   "language": "python",
   "name": "python3"
  },
  "language_info": {
   "codemirror_mode": {
    "name": "ipython",
    "version": 3
   },
   "file_extension": ".py",
   "mimetype": "text/x-python",
   "name": "python",
   "nbconvert_exporter": "python",
   "pygments_lexer": "ipython3",
   "version": "3.9.7"
  }
 },
 "nbformat": 4,
 "nbformat_minor": 5
}
