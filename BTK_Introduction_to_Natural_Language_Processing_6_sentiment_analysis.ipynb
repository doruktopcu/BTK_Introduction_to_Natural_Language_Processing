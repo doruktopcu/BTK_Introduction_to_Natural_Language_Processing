{
 "cells": [
  {
   "cell_type": "markdown",
   "id": "8a01500c",
   "metadata": {},
   "source": [
    "## Sentiment Analysis"
   ]
  },
  {
   "cell_type": "code",
   "execution_count": 1,
   "id": "3b6e1e5e",
   "metadata": {},
   "outputs": [],
   "source": [
    "import pandas as pd"
   ]
  },
  {
   "cell_type": "code",
   "execution_count": 4,
   "id": "5cdef72e",
   "metadata": {},
   "outputs": [],
   "source": [
    "data = pd.read_csv('reviews.txt', delimiter = '\\t')\n",
    "data = data.sample(frac = 1).reset_index(drop = True)"
   ]
  },
  {
   "cell_type": "code",
   "execution_count": 5,
   "id": "44f58c2c",
   "metadata": {},
   "outputs": [
    {
     "data": {
      "text/html": [
       "<div>\n",
       "<style scoped>\n",
       "    .dataframe tbody tr th:only-of-type {\n",
       "        vertical-align: middle;\n",
       "    }\n",
       "\n",
       "    .dataframe tbody tr th {\n",
       "        vertical-align: top;\n",
       "    }\n",
       "\n",
       "    .dataframe thead th {\n",
       "        text-align: right;\n",
       "    }\n",
       "</style>\n",
       "<table border=\"1\" class=\"dataframe\">\n",
       "  <thead>\n",
       "    <tr style=\"text-align: right;\">\n",
       "      <th></th>\n",
       "      <th>beklentimin altında bir ürün kaliteli değil</th>\n",
       "    </tr>\n",
       "  </thead>\n",
       "  <tbody>\n",
       "    <tr>\n",
       "      <th>0</th>\n",
       "      <td>ürün gayet şık ve kullanışlı. ilk gün olmasına...</td>\n",
       "    </tr>\n",
       "    <tr>\n",
       "      <th>1</th>\n",
       "      <td>paranızın karşılığını aldığınız yerde</td>\n",
       "    </tr>\n",
       "    <tr>\n",
       "      <th>2</th>\n",
       "      <td>bu fiysta belki en iyisi. kutusunun özeni, mal...</td>\n",
       "    </tr>\n",
       "    <tr>\n",
       "      <th>3</th>\n",
       "      <td>sarjı nasarılı uzun gidiyor.sesi güzel tavsiye...</td>\n",
       "    </tr>\n",
       "    <tr>\n",
       "      <th>4</th>\n",
       "      <td>ürün orjinal gayet güzel teşekkür ederim</td>\n",
       "    </tr>\n",
       "  </tbody>\n",
       "</table>\n",
       "</div>"
      ],
      "text/plain": [
       "         beklentimin altında bir ürün kaliteli değil\n",
       "0  ürün gayet şık ve kullanışlı. ilk gün olmasına...\n",
       "1              paranızın karşılığını aldığınız yerde\n",
       "2  bu fiysta belki en iyisi. kutusunun özeni, mal...\n",
       "3  sarjı nasarılı uzun gidiyor.sesi güzel tavsiye...\n",
       "4          ürün orjinal gayet güzel teşekkür ederim "
      ]
     },
     "execution_count": 5,
     "metadata": {},
     "output_type": "execute_result"
    }
   ],
   "source": [
    "data.head()"
   ]
  },
  {
   "cell_type": "code",
   "execution_count": 9,
   "id": "fd7ce949",
   "metadata": {},
   "outputs": [],
   "source": [
    "import string\n",
    "import re\n",
    "import nltk\n",
    "from nltk.corpus import stopwords"
   ]
  },
  {
   "cell_type": "code",
   "execution_count": 11,
   "id": "67f189e8",
   "metadata": {},
   "outputs": [
    {
     "name": "stdout",
     "output_type": "stream",
     "text": [
      "!\"#$%&'()*+,-./:;<=>?@[\\]^_`{|}~\n",
      "['acaba', 'ama', 'aslında', 'az', 'bazı', 'belki', 'biri', 'birkaç', 'birşey', 'biz', 'bu', 'çok', 'çünkü', 'da', 'daha', 'de', 'defa', 'diye', 'eğer', 'en', 'gibi', 'hem', 'hep', 'hepsi', 'her', 'hiç', 'için', 'ile', 'ise', 'kez', 'ki', 'kim', 'mı', 'mu', 'mü', 'nasıl', 'ne', 'neden', 'nerde', 'nerede', 'nereye', 'niçin', 'niye', 'o', 'sanki', 'şey', 'siz', 'şu', 'tüm', 've', 'veya', 'ya', 'yani']\n"
     ]
    }
   ],
   "source": [
    "noktalama = string.punctuation\n",
    "etkisiz = stopwords.words('turkish')\n",
    "print(noktalama)\n",
    "print(etkisiz)"
   ]
  },
  {
   "cell_type": "code",
   "execution_count": 13,
   "id": "29441d83",
   "metadata": {},
   "outputs": [
    {
     "name": "stdout",
     "output_type": "stream",
     "text": [
      "ürün gayet şık ve kullanışlı. ilk gün olmasına rağmen severek oynadım. şarjı gayet hızlı. sisemi ve kamerası gayet başarılı.\n",
      "-----------------\n",
      "ürün gayet şık kullanışlı. ilk gün olmasına rağmen severek oynadım. şarjı gayet hızlı. sisemi kamerası gayet başarılı. \n",
      "------------\n",
      "paranızın karşılığını aldığınız yerde\n",
      "-----------------\n",
      "paranızın karşılığını aldığınız yerde \n",
      "------------\n",
      "bu fiysta belki en iyisi. kutusunun özeni, malzeme kalitesi ve ses hakiketten mükemmel ve metalimsi malzemeden üretildiği için çok şık duruyor...\n",
      "-----------------\n",
      "fiysta iyisi. kutusunun özeni, malzeme kalitesi ses hakiketten mükemmel metalimsi malzemeden üretildiği şık duruyor... \n",
      "------------\n",
      "sarjı nasarılı uzun gidiyor.sesi güzel tavsiye ederim. 5 veya 6 aydır kullanıyorum sorun yok.eşime aldım çok memnun\n",
      "-----------------\n",
      "sarjı nasarılı uzun gidiyor.sesi güzel tavsiye ederim. aydır kullanıyorum sorun yok.eşime aldım memnun \n",
      "------------\n",
      "ürün orjinal gayet güzel teşekkür ederim \n",
      "-----------------\n",
      "ürün orjinal gayet güzel teşekkür ederim \n",
      "------------\n"
     ]
    }
   ],
   "source": [
    "for d in data['beklentimin altında bir ürün kaliteli değil'].head():\n",
    "    print(d+ '\\n-----------------')\n",
    "    \n",
    "    temp = ''\n",
    "    for word in d.split():\n",
    "        if word not in etkisiz and not word.isnumeric():\n",
    "            temp += word + ' '\n",
    "            \n",
    "    print(temp + '\\n------------')\n"
   ]
  },
  {
   "cell_type": "code",
   "execution_count": 14,
   "id": "684bdb07",
   "metadata": {},
   "outputs": [],
   "source": [
    "data.to_csv(r'cleaned.csv', index = False)"
   ]
  },
  {
   "cell_type": "code",
   "execution_count": 15,
   "id": "37ff5bc4",
   "metadata": {},
   "outputs": [],
   "source": [
    "data = pd.read_csv('cleaned.csv', sep = ',', names = [\n",
    " 'review', 'label'\n",
    "])"
   ]
  },
  {
   "cell_type": "code",
   "execution_count": 16,
   "id": "077ab62a",
   "metadata": {},
   "outputs": [
    {
     "data": {
      "text/html": [
       "<div>\n",
       "<style scoped>\n",
       "    .dataframe tbody tr th:only-of-type {\n",
       "        vertical-align: middle;\n",
       "    }\n",
       "\n",
       "    .dataframe tbody tr th {\n",
       "        vertical-align: top;\n",
       "    }\n",
       "\n",
       "    .dataframe thead th {\n",
       "        text-align: right;\n",
       "    }\n",
       "</style>\n",
       "<table border=\"1\" class=\"dataframe\">\n",
       "  <thead>\n",
       "    <tr style=\"text-align: right;\">\n",
       "      <th></th>\n",
       "      <th>review</th>\n",
       "      <th>label</th>\n",
       "    </tr>\n",
       "  </thead>\n",
       "  <tbody>\n",
       "    <tr>\n",
       "      <th>0</th>\n",
       "      <td>beklentimin altında bir ürün kaliteli değil</td>\n",
       "      <td>NaN</td>\n",
       "    </tr>\n",
       "    <tr>\n",
       "      <th>1</th>\n",
       "      <td>ürün gayet şık ve kullanışlı. ilk gün olmasına...</td>\n",
       "      <td>NaN</td>\n",
       "    </tr>\n",
       "    <tr>\n",
       "      <th>2</th>\n",
       "      <td>paranızın karşılığını aldığınız yerde</td>\n",
       "      <td>NaN</td>\n",
       "    </tr>\n",
       "    <tr>\n",
       "      <th>3</th>\n",
       "      <td>bu fiysta belki en iyisi. kutusunun özeni, mal...</td>\n",
       "      <td>NaN</td>\n",
       "    </tr>\n",
       "    <tr>\n",
       "      <th>4</th>\n",
       "      <td>sarjı nasarılı uzun gidiyor.sesi güzel tavsiye...</td>\n",
       "      <td>NaN</td>\n",
       "    </tr>\n",
       "    <tr>\n",
       "      <th>...</th>\n",
       "      <td>...</td>\n",
       "      <td>...</td>\n",
       "    </tr>\n",
       "    <tr>\n",
       "      <th>234618</th>\n",
       "      <td>bu fiyata bulunan kulaklık modellerinin içinde...</td>\n",
       "      <td>NaN</td>\n",
       "    </tr>\n",
       "    <tr>\n",
       "      <th>234619</th>\n",
       "      <td>arkadaşlar bildiğimiz para bantının çift taraf...</td>\n",
       "      <td>NaN</td>\n",
       "    </tr>\n",
       "    <tr>\n",
       "      <th>234620</th>\n",
       "      <td>eşim ve ben bu üründen çok memnunuz.paketin iç...</td>\n",
       "      <td>NaN</td>\n",
       "    </tr>\n",
       "    <tr>\n",
       "      <th>234621</th>\n",
       "      <td>i̇ki senedir almak istediğim bir markaydı. hep...</td>\n",
       "      <td>NaN</td>\n",
       "    </tr>\n",
       "    <tr>\n",
       "      <th>234622</th>\n",
       "      <td>ürün fiyatına göre gayet harika, kurulumu çok ...</td>\n",
       "      <td>NaN</td>\n",
       "    </tr>\n",
       "  </tbody>\n",
       "</table>\n",
       "<p>234623 rows × 2 columns</p>\n",
       "</div>"
      ],
      "text/plain": [
       "                                                   review  label\n",
       "0             beklentimin altında bir ürün kaliteli değil    NaN\n",
       "1       ürün gayet şık ve kullanışlı. ilk gün olmasına...    NaN\n",
       "2                   paranızın karşılığını aldığınız yerde    NaN\n",
       "3       bu fiysta belki en iyisi. kutusunun özeni, mal...    NaN\n",
       "4       sarjı nasarılı uzun gidiyor.sesi güzel tavsiye...    NaN\n",
       "...                                                   ...    ...\n",
       "234618  bu fiyata bulunan kulaklık modellerinin içinde...    NaN\n",
       "234619  arkadaşlar bildiğimiz para bantının çift taraf...    NaN\n",
       "234620  eşim ve ben bu üründen çok memnunuz.paketin iç...    NaN\n",
       "234621  i̇ki senedir almak istediğim bir markaydı. hep...    NaN\n",
       "234622  ürün fiyatına göre gayet harika, kurulumu çok ...    NaN\n",
       "\n",
       "[234623 rows x 2 columns]"
      ]
     },
     "execution_count": 16,
     "metadata": {},
     "output_type": "execute_result"
    }
   ],
   "source": [
    "data"
   ]
  },
  {
   "cell_type": "code",
   "execution_count": 20,
   "id": "d222a8fd",
   "metadata": {},
   "outputs": [],
   "source": [
    "from sklearn.model_selection import train_test_split"
   ]
  },
  {
   "cell_type": "code",
   "execution_count": null,
   "id": "125e548e",
   "metadata": {},
   "outputs": [],
   "source": [
    "X_train, X_test, y_train, y_test = train_test_split(data['review'.values.astype('U')\n",
    "])"
   ]
  }
 ],
 "metadata": {
  "kernelspec": {
   "display_name": "Python 3 (ipykernel)",
   "language": "python",
   "name": "python3"
  },
  "language_info": {
   "codemirror_mode": {
    "name": "ipython",
    "version": 3
   },
   "file_extension": ".py",
   "mimetype": "text/x-python",
   "name": "python",
   "nbconvert_exporter": "python",
   "pygments_lexer": "ipython3",
   "version": "3.9.7"
  }
 },
 "nbformat": 4,
 "nbformat_minor": 5
}
